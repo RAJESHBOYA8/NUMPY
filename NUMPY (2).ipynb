{
 "cells": [
  {
   "cell_type": "code",
   "execution_count": 4,
   "id": "a6d2f574-fe75-4c33-adc9-d393bb5ceff4",
   "metadata": {},
   "outputs": [],
   "source": [
    "                          **** NUMPY LIBRARY - RAJESH BOYA ****\n"
   ]
  },
  {
   "cell_type": "code",
   "execution_count": 6,
   "id": "8d5f5fe0-a46c-4390-b9b2-892320a9dafb",
   "metadata": {},
   "outputs": [
    {
     "name": "stdout",
     "output_type": "stream",
     "text": [
      "1-DIMENTIONAL ARRAY : \n",
      " [1 2]\n"
     ]
    }
   ],
   "source": [
    "#IMPORT NUMPY\n",
    "import numpy as np\n",
    "\n",
    "#CREATING A ARRAY\n",
    "a=np.array([1,2])\n",
    "print(\"1-DIMENTIONAL ARRAY : \\n\",a)"
   ]
  },
  {
   "cell_type": "code",
   "execution_count": 28,
   "id": "747080b0-8fa7-4521-ba4c-19e9bbd1878c",
   "metadata": {},
   "outputs": [
    {
     "name": "stdout",
     "output_type": "stream",
     "text": [
      "2-DIMENTIONAL ARRAY : \n",
      " [[1 5 5 8 5 5 1 7]\n",
      " [9 4 3 4 6 7 1 2]]\n"
     ]
    }
   ],
   "source": [
    "b=np.array([[1,5,5,8,5,5,1,7],[9,4,3,4,6,7,1,2]])\n",
    "print(\"2-DIMENTIONAL ARRAY : \\n\",b)"
   ]
  },
  {
   "cell_type": "code",
   "execution_count": 12,
   "id": "e5a012d0-4c36-4595-8abe-db42b8d0b9e1",
   "metadata": {},
   "outputs": [
    {
     "name": "stdout",
     "output_type": "stream",
     "text": [
      "3-DIMENTIONAL ARRAY : \n",
      " [[[7 7]\n",
      "  [8 9]\n",
      "  [9 8]]]\n"
     ]
    }
   ],
   "source": [
    "c=np.array([[[7,7],[8,9],[9,8]]])\n",
    "print(\"3-DIMENTIONAL ARRAY : \\n\",c)"
   ]
  },
  {
   "cell_type": "code",
   "execution_count": 14,
   "id": "ee1e5edf-5bc1-472d-8c47-2034ebc5325e",
   "metadata": {},
   "outputs": [
    {
     "data": {
      "text/plain": [
       "array([[1, 5],\n",
       "       [1, 2],\n",
       "       [2, 3],\n",
       "       [2, 6]])"
      ]
     },
     "execution_count": 14,
     "metadata": {},
     "output_type": "execute_result"
    }
   ],
   "source": [
    "#DIMENSIONS\n",
    "b.ndim\n",
    "b"
   ]
  },
  {
   "cell_type": "code",
   "execution_count": 16,
   "id": "9043ee8e-4154-4fd8-9bcd-bda00b914901",
   "metadata": {},
   "outputs": [
    {
     "name": "stdout",
     "output_type": "stream",
     "text": [
      "NUMBER OF ROWS AND COLUMNS : (4, 2)\n"
     ]
    }
   ],
   "source": [
    "print(\"NUMBER OF ROWS AND COLUMNS :\",b.shape)"
   ]
  },
  {
   "cell_type": "code",
   "execution_count": 18,
   "id": "a0732dfb-84b4-47a9-ada5-760c5ad721da",
   "metadata": {},
   "outputs": [
    {
     "name": "stdout",
     "output_type": "stream",
     "text": [
      "DATA TYPE :  int32\n"
     ]
    }
   ],
   "source": [
    "#DataType\n",
    "print(\"DATA TYPE : \",b.dtype)"
   ]
  },
  {
   "cell_type": "code",
   "execution_count": 20,
   "id": "14748e24-13f3-4793-964d-1b2aa384ac3a",
   "metadata": {},
   "outputs": [
    {
     "name": "stdout",
     "output_type": "stream",
     "text": [
      "SIZE OF EACH ELEMENT :  4\n"
     ]
    }
   ],
   "source": [
    "print(\"SIZE OF EACH ELEMENT : \",b.itemsize)"
   ]
  },
  {
   "cell_type": "code",
   "execution_count": 22,
   "id": "07c609f0-c3a9-4cf7-84a4-c7b463263ace",
   "metadata": {},
   "outputs": [
    {
     "name": "stdout",
     "output_type": "stream",
     "text": [
      "SIZE OF TOTAL ARRAY IN BYTES :  32\n"
     ]
    }
   ],
   "source": [
    "#1 element=4bytes\n",
    "print(\"SIZE OF TOTAL ARRAY IN BYTES : \",b.nbytes)"
   ]
  },
  {
   "cell_type": "code",
   "execution_count": 32,
   "id": "8affdda5-2ff0-432f-829c-59d39f147c71",
   "metadata": {},
   "outputs": [
    {
     "name": "stdout",
     "output_type": "stream",
     "text": [
      "ACCESSING A PARTICULAR ELEMENT :  6\n",
      "ACCESSING A SPECIFIC ROW :  [9 4 3 4 6 7 1 2]\n",
      "ACCESSING A SPECIFIC COLUMN :  [5 6]\n"
     ]
    }
   ],
   "source": [
    "# ACCESSING ELEMENTS \n",
    "\n",
    "print(\"ACCESSING A PARTICULAR ELEMENT : \",b[1,4])\n",
    "print(\"ACCESSING A SPECIFIC ROW : \",b[1,:])\n",
    "print(\"ACCESSING A SPECIFIC COLUMN : \",b[:,4])"
   ]
  },
  {
   "cell_type": "code",
   "execution_count": 40,
   "id": "b8c11514-2d02-4525-a179-1ea87a38da0a",
   "metadata": {},
   "outputs": [
    {
     "name": "stdout",
     "output_type": "stream",
     "text": [
      "ARRAY OF ZEROS : \n",
      " [[[0. 0. 0. 0.]\n",
      "  [0. 0. 0. 0.]\n",
      "  [0. 0. 0. 0.]\n",
      "  [0. 0. 0. 0.]\n",
      "  [0. 0. 0. 0.]]\n",
      "\n",
      " [[0. 0. 0. 0.]\n",
      "  [0. 0. 0. 0.]\n",
      "  [0. 0. 0. 0.]\n",
      "  [0. 0. 0. 0.]\n",
      "  [0. 0. 0. 0.]]]\n"
     ]
    }
   ],
   "source": [
    "#CREATING ARRAYS\n",
    "# SYNTAX : [ NO. OF ARRAYS , NO.OF ROWS, NO.OF COLUMNS ]\n",
    "\n",
    "print(\"ARRAY OF ZEROS : \\n\",np.zeros((2,5,4)))"
   ]
  },
  {
   "cell_type": "code",
   "execution_count": 44,
   "id": "7ea7788d-b7d9-4400-94c6-12da3e3aa6ce",
   "metadata": {},
   "outputs": [
    {
     "name": "stdout",
     "output_type": "stream",
     "text": [
      "ARRAY OF ONES : \n",
      " [[1. 1. 1. 1. 1. 1. 1.]\n",
      " [1. 1. 1. 1. 1. 1. 1.]\n",
      " [1. 1. 1. 1. 1. 1. 1.]\n",
      " [1. 1. 1. 1. 1. 1. 1.]\n",
      " [1. 1. 1. 1. 1. 1. 1.]]\n"
     ]
    }
   ],
   "source": [
    "print(\"ARRAY OF ONES : \\n\",np.ones((5,7)))"
   ]
  },
  {
   "cell_type": "code",
   "execution_count": 46,
   "id": "ccb2fc4c-30dd-4e41-b2fe-4f79c886333d",
   "metadata": {},
   "outputs": [
    {
     "name": "stdout",
     "output_type": "stream",
     "text": [
      "ARRAY OF SPECIFIC NUMBER : \n",
      " [[[69 69 69]\n",
      "  [69 69 69]\n",
      "  [69 69 69]]]\n"
     ]
    }
   ],
   "source": [
    "print(\"ARRAY OF SPECIFIC NUMBER : \\n\",np.full((1,3,3),69))"
   ]
  },
  {
   "cell_type": "code",
   "execution_count": 52,
   "id": "343108b8-2f93-4561-a1a3-88f5ff36b1eb",
   "metadata": {},
   "outputs": [
    {
     "name": "stdout",
     "output_type": "stream",
     "text": [
      "ARRAY OF RANDOM NUMBERS : \n",
      " [[0.38404017 0.06598908 0.47751645]\n",
      " [0.64874017 0.59799865 0.29461554]\n",
      " [0.21598717 0.40874269 0.82264028]]\n"
     ]
    }
   ],
   "source": [
    "print(\"ARRAY OF RANDOM NUMBERS : \\n\",np.random.rand(3,3))"
   ]
  },
  {
   "cell_type": "code",
   "execution_count": 54,
   "id": "5d33e482-e75a-4ba5-b6d1-c89e2198e644",
   "metadata": {},
   "outputs": [
    {
     "name": "stdout",
     "output_type": "stream",
     "text": [
      "IDENTITY MATRIX : \n",
      " [[1. 0. 0. 0. 0. 0. 0.]\n",
      " [0. 1. 0. 0. 0. 0. 0.]\n",
      " [0. 0. 1. 0. 0. 0. 0.]\n",
      " [0. 0. 0. 1. 0. 0. 0.]\n",
      " [0. 0. 0. 0. 1. 0. 0.]\n",
      " [0. 0. 0. 0. 0. 1. 0.]\n",
      " [0. 0. 0. 0. 0. 0. 1.]]\n"
     ]
    }
   ],
   "source": [
    "print(\"IDENTITY MATRIX : \\n\",np.identity(7))"
   ]
  }
 ],
 "metadata": {
  "kernelspec": {
   "display_name": "Python 3 (ipykernel)",
   "language": "python",
   "name": "python3"
  },
  "language_info": {
   "codemirror_mode": {
    "name": "ipython",
    "version": 3
   },
   "file_extension": ".py",
   "mimetype": "text/x-python",
   "name": "python",
   "nbconvert_exporter": "python",
   "pygments_lexer": "ipython3",
   "version": "3.12.4"
  }
 },
 "nbformat": 4,
 "nbformat_minor": 5
}
